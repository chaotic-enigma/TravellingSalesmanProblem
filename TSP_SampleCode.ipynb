{
 "cells": [
  {
   "cell_type": "markdown",
   "metadata": {},
   "source": [
    "## Import the packages"
   ]
  },
  {
   "cell_type": "code",
   "execution_count": 1,
   "metadata": {},
   "outputs": [],
   "source": [
    "import random\n",
    "import operator"
   ]
  },
  {
   "cell_type": "markdown",
   "metadata": {},
   "source": [
    "## Random cost matrix from each city to all other cities"
   ]
  },
  {
   "cell_type": "code",
   "execution_count": 2,
   "metadata": {},
   "outputs": [],
   "source": [
    "def SetCostMatrix(num):\n",
    "    cmatrix = {}\n",
    "    for i in range(1, num + 1):\n",
    "        for j in range(1, num + 1):\n",
    "            if i == j:\n",
    "                cmatrix[(i, j)] = 0\n",
    "            else:\n",
    "                cmatrix[(i, j)] = random.randint(10, 100)\n",
    "    return cmatrix"
   ]
  },
  {
   "cell_type": "code",
   "execution_count": 3,
   "metadata": {},
   "outputs": [],
   "source": [
    "num_cities = SetCostMatrix(10)"
   ]
  },
  {
   "cell_type": "markdown",
   "metadata": {},
   "source": [
    "## Get the cost or distance value from one city to another city"
   ]
  },
  {
   "cell_type": "code",
   "execution_count": 4,
   "metadata": {},
   "outputs": [],
   "source": [
    "def GetCostVal(row, col):\n",
    "    if col == 0:\n",
    "        col = 1\n",
    "    return num_cities[(row, col)]"
   ]
  },
  {
   "cell_type": "markdown",
   "metadata": {},
   "source": [
    "## Get the possible source city and rest all target cities"
   ]
  },
  {
   "cell_type": "code",
   "execution_count": 5,
   "metadata": {},
   "outputs": [],
   "source": [
    "def GetPossibilites(source, cities_count):\n",
    "    cities = list(range(1, cities_count + 1))\n",
    "    possibilities = {}\n",
    "    for city in cities:\n",
    "        dtars = cities[:]\n",
    "        dtars.remove(city)\n",
    "        possibilities[city] = dtars\n",
    "    return possibilities"
   ]
  },
  {
   "cell_type": "markdown",
   "metadata": {},
   "source": [
    "### 10 cities, therefore 10 possibilities"
   ]
  },
  {
   "cell_type": "code",
   "execution_count": 6,
   "metadata": {},
   "outputs": [
    {
     "data": {
      "text/plain": [
       "{1: [2, 3, 4, 5, 6, 7, 8, 9, 10],\n",
       " 2: [1, 3, 4, 5, 6, 7, 8, 9, 10],\n",
       " 3: [1, 2, 4, 5, 6, 7, 8, 9, 10],\n",
       " 4: [1, 2, 3, 5, 6, 7, 8, 9, 10],\n",
       " 5: [1, 2, 3, 4, 6, 7, 8, 9, 10],\n",
       " 6: [1, 2, 3, 4, 5, 7, 8, 9, 10],\n",
       " 7: [1, 2, 3, 4, 5, 6, 8, 9, 10],\n",
       " 8: [1, 2, 3, 4, 5, 6, 7, 9, 10],\n",
       " 9: [1, 2, 3, 4, 5, 6, 7, 8, 10],\n",
       " 10: [1, 2, 3, 4, 5, 6, 7, 8, 9]}"
      ]
     },
     "execution_count": 6,
     "metadata": {},
     "output_type": "execute_result"
    }
   ],
   "source": [
    "GetPossibilites(1, 10)"
   ]
  },
  {
   "cell_type": "markdown",
   "metadata": {},
   "source": [
    "## Recursive function to get the minimum distance from source to target cities"
   ]
  },
  {
   "cell_type": "code",
   "execution_count": 7,
   "metadata": {},
   "outputs": [],
   "source": [
    "def TSPGetMinDistance(source, cities):\n",
    "    if len(cities) == 1:\n",
    "        return GetCostVal(source, cities[0]) + GetCostVal(cities[0], 0)\n",
    "    else:\n",
    "        Dist = []\n",
    "        for city in cities:\n",
    "            dcities = cities[:]\n",
    "            dcities.remove(city)\n",
    "            Dist.append(GetCostVal(source, city) + TSPGetMinDistance(city, dcities))\n",
    "        return min(Dist)"
   ]
  },
  {
   "cell_type": "code",
   "execution_count": 8,
   "metadata": {},
   "outputs": [],
   "source": [
    "distances = {}\n",
    "possibilities = GetPossibilites(1, 10)\n",
    "for source, cities in possibilities.items():\n",
    "    distances[source] = TSPGetMinDistance(source, cities)"
   ]
  },
  {
   "cell_type": "markdown",
   "metadata": {},
   "source": [
    "## Possible minimum distance for each source"
   ]
  },
  {
   "cell_type": "code",
   "execution_count": 9,
   "metadata": {},
   "outputs": [
    {
     "data": {
      "text/plain": [
       "{1: 288,\n",
       " 2: 271,\n",
       " 3: 247,\n",
       " 4: 250,\n",
       " 5: 275,\n",
       " 6: 235,\n",
       " 7: 268,\n",
       " 8: 260,\n",
       " 9: 262,\n",
       " 10: 264}"
      ]
     },
     "execution_count": 9,
     "metadata": {},
     "output_type": "execute_result"
    }
   ],
   "source": [
    "distances"
   ]
  },
  {
   "cell_type": "markdown",
   "metadata": {},
   "source": [
    "## The least of the least, best source"
   ]
  },
  {
   "cell_type": "code",
   "execution_count": 10,
   "metadata": {},
   "outputs": [
    {
     "data": {
      "text/plain": [
       "6"
      ]
     },
     "execution_count": 10,
     "metadata": {},
     "output_type": "execute_result"
    }
   ],
   "source": [
    "source_minimal = min(distances.items(), key=operator.itemgetter(1))[0]\n",
    "source_minimal"
   ]
  },
  {
   "cell_type": "code",
   "execution_count": null,
   "metadata": {},
   "outputs": [],
   "source": []
  }
 ],
 "metadata": {
  "kernelspec": {
   "display_name": "Python 3",
   "language": "python",
   "name": "python3"
  },
  "language_info": {
   "codemirror_mode": {
    "name": "ipython",
    "version": 3
   },
   "file_extension": ".py",
   "mimetype": "text/x-python",
   "name": "python",
   "nbconvert_exporter": "python",
   "pygments_lexer": "ipython3",
   "version": "3.7.4"
  }
 },
 "nbformat": 4,
 "nbformat_minor": 2
}
