{
 "cells": [
  {
   "cell_type": "markdown",
   "metadata": {},
   "source": [
    "# Travelling Salesman Problem"
   ]
  },
  {
   "cell_type": "markdown",
   "metadata": {},
   "source": [
    "The Travelling Salesman Problem describes a salesman who must travel between N cities. The order in which he does so is something he does not care about, as long as he visits each city during his trip, and finishes where he was at first.\n",
    "\n",
    "It can be solved by different methods like dynamic programming, genetic algorithm implementation etc. But ultimately the algorithm has to return the minimal distance to cover all the cities.\n",
    "\n",
    "<img src=\"TSP_Image.png\">"
   ]
  },
  {
   "cell_type": "markdown",
   "metadata": {},
   "source": [
    "# Let's get to the work"
   ]
  },
  {
   "cell_type": "markdown",
   "metadata": {},
   "source": [
    "## Import the packages"
   ]
  },
  {
   "cell_type": "code",
   "execution_count": 1,
   "metadata": {},
   "outputs": [],
   "source": [
    "import random\n",
    "import operator\n",
    "\n",
    "import pandas as pd\n",
    "import matplotlib.pyplot as plt\n",
    "from matplotlib import style\n",
    "%matplotlib inline\n",
    "\n",
    "style.use('fivethirtyeight')"
   ]
  },
  {
   "cell_type": "markdown",
   "metadata": {},
   "source": [
    "## Random cost matrix from each city to all other cities"
   ]
  },
  {
   "cell_type": "markdown",
   "metadata": {},
   "source": [
    "This basically gives a random distance from one city to another city. Suppose we have four cities namely `[1, 2, 3, 4]` and we want to a matrix having the distance from one city to another city. This can be done by a cost matrix function that assigns a random distance value.\n",
    "\n",
    "**Cost matrix**\n",
    "\n",
    "| s\\t || 1 | 2 | 3 | 4 |\n",
    "| --- || --- | --- | --- | --- |\n",
    "| **1**| | **0** | 4 | 5 | 7 |\n",
    "| **2**| | 3 | **0** | 8 | 10 |\n",
    "| **3**| | 5 | 9 | **0** | 4 |\n",
    "| **4**| | 6 | 10 | 5 | **0** |\n",
    "\n",
    "The diagonal values are `0` as the distance from source to source will always be `0`. The below function sets the distance / cost matrix for the required number of cities that is passed as an argument."
   ]
  },
  {
   "cell_type": "code",
   "execution_count": 2,
   "metadata": {},
   "outputs": [],
   "source": [
    "def SetCostMatrix(num):\n",
    "    cmatrix = {}\n",
    "    for i in range(1, num + 1):\n",
    "        for j in range(1, num + 1):\n",
    "            if i == j:\n",
    "                cmatrix[(i, j)] = 0\n",
    "            else:\n",
    "                cmatrix[(i, j)] = random.randint(10, 50)\n",
    "    return cmatrix"
   ]
  },
  {
   "cell_type": "code",
   "execution_count": 3,
   "metadata": {},
   "outputs": [],
   "source": [
    "total_num = 10\n",
    "num_cities = SetCostMatrix(total_num)"
   ]
  },
  {
   "cell_type": "markdown",
   "metadata": {},
   "source": [
    "The above `SetCostMatrix(10)` returns a dictionary have `{(row, col) : distance}`. "
   ]
  },
  {
   "cell_type": "markdown",
   "metadata": {},
   "source": [
    "## Get the cost or distance value from one city to another city"
   ]
  },
  {
   "cell_type": "markdown",
   "metadata": {},
   "source": [
    "In order to get the distance / cost value pertaining to the source and the target city, the function checks for the key and returns the value. It is been validated for every case in which it initially checks the distance between `target` and `source`. And in the following cases it iteratively performs the same task and obtains the minimal cost / distance."
   ]
  },
  {
   "cell_type": "code",
   "execution_count": 4,
   "metadata": {},
   "outputs": [],
   "source": [
    "def GetCostVal(row, col, source):\n",
    "    if col == 0:\n",
    "        col = source\n",
    "        return num_cities[(row, col)]\n",
    "    return num_cities[(row, col)]"
   ]
  },
  {
   "cell_type": "code",
   "execution_count": 5,
   "metadata": {},
   "outputs": [
    {
     "data": {
      "text/plain": [
       "23"
      ]
     },
     "execution_count": 5,
     "metadata": {},
     "output_type": "execute_result"
    }
   ],
   "source": [
    "GetCostVal(3, 0, 2)"
   ]
  },
  {
   "cell_type": "markdown",
   "metadata": {},
   "source": [
    "## Get the possible source city and rest all target cities"
   ]
  },
  {
   "cell_type": "markdown",
   "metadata": {},
   "source": [
    "By implementing TSP algorithm it should be obvius that travelling from any source city to all other target cities, salesman should connect each target from source exactly once and should reach where he had started."
   ]
  },
  {
   "cell_type": "code",
   "execution_count": 6,
   "metadata": {},
   "outputs": [],
   "source": [
    "def GetPossibilites(cities_count):\n",
    "    cities = list(range(1, cities_count + 1))\n",
    "    possibilities = {}\n",
    "    for city in cities:\n",
    "        dtars = cities[:]\n",
    "        dtars.remove(city)\n",
    "        possibilities[city] = dtars\n",
    "    return possibilities"
   ]
  },
  {
   "cell_type": "markdown",
   "metadata": {},
   "source": [
    "### If there are 10 cities, then 10 possibilities"
   ]
  },
  {
   "cell_type": "code",
   "execution_count": 7,
   "metadata": {
    "scrolled": true
   },
   "outputs": [
    {
     "data": {
      "text/plain": [
       "{1: [2, 3, 4, 5, 6, 7, 8, 9, 10],\n",
       " 2: [1, 3, 4, 5, 6, 7, 8, 9, 10],\n",
       " 3: [1, 2, 4, 5, 6, 7, 8, 9, 10],\n",
       " 4: [1, 2, 3, 5, 6, 7, 8, 9, 10],\n",
       " 5: [1, 2, 3, 4, 6, 7, 8, 9, 10],\n",
       " 6: [1, 2, 3, 4, 5, 7, 8, 9, 10],\n",
       " 7: [1, 2, 3, 4, 5, 6, 8, 9, 10],\n",
       " 8: [1, 2, 3, 4, 5, 6, 7, 9, 10],\n",
       " 9: [1, 2, 3, 4, 5, 6, 7, 8, 10],\n",
       " 10: [1, 2, 3, 4, 5, 6, 7, 8, 9]}"
      ]
     },
     "execution_count": 7,
     "metadata": {},
     "output_type": "execute_result"
    }
   ],
   "source": [
    "GetPossibilites(total_num)"
   ]
  },
  {
   "cell_type": "markdown",
   "metadata": {},
   "source": [
    "Source city should be exactly one and rest all are target cities. Therefore the possible source cities can be any one from total number of cities. If there are `n` cities, then there are `n` combinations in which each city has a chance to be a source city. "
   ]
  },
  {
   "cell_type": "markdown",
   "metadata": {},
   "source": [
    "## Recursive function to get the minimum distance from source to target cities"
   ]
  },
  {
   "cell_type": "markdown",
   "metadata": {},
   "source": [
    "It is an iterative process for which it selects the best minimal value in order to solve the problem. The formula that is been implemented is:\n",
    "\n",
    "$$ G \\big \\langle 1, V - \\{s\\} \\big \\rangle = min \\Bigg[ \\ c \\ (1, \\ k) + G \\big \\langle k, V - \\{1, \\ k\\} \\big \\rangle \\Bigg] \\\\ where \\ (2 \\leq k \\leq n) \\ and \\ V = \\{ 1, 2, \\dots, n \\} $$\n",
    "\n",
    "The below computes this mathematical equation for all the targets with respect to source city and takes the minimal distance that satiates the salesman. I will also print the processing steps how it is working."
   ]
  },
  {
   "cell_type": "code",
   "execution_count": 8,
   "metadata": {},
   "outputs": [],
   "source": [
    "iterative_process = []\n",
    "def TSPGetMinDistance(main_source, source, cities):\n",
    "    if len(cities) == 1:\n",
    "        minDis = GetCostVal(source, cities[0], main_source) + GetCostVal(cities[0], 0, main_source)\n",
    "        return minDis\n",
    "    else:\n",
    "        Dist = []\n",
    "        for city in cities:\n",
    "            dcities = cities[:]\n",
    "            dcities.remove(city)\n",
    "            Dist.append(GetCostVal(source, city, source) + TSPGetMinDistance(main_source, city, dcities))\n",
    "        iterative_process.append(Dist)\n",
    "        return min(Dist)"
   ]
  },
  {
   "cell_type": "markdown",
   "metadata": {},
   "source": [
    "The list - `iterative_process` shows the step by step result how the algorithm is processing. It shows the result staring from the second step as the result for the 1st step will be used in the following steps. The result of `iterative_process[-1]` shows total cost to reach to the source after connecting each target. It consists of different costs but the ultimate goal of this algorithm is to show the minimal cost or distance required for a salesman to complete his task by reaching out all the cities. Hence the iterative learning."
   ]
  },
  {
   "cell_type": "code",
   "execution_count": 9,
   "metadata": {},
   "outputs": [
    {
     "data": {
      "text/plain": [
       "[207, 176, 184, 188, 209, 195, 189, 186, 200]"
      ]
     },
     "execution_count": 9,
     "metadata": {},
     "output_type": "execute_result"
    }
   ],
   "source": [
    "TSPGetMinDistance(1, 1, [2, 3, 4, 5, 6, 7, 8, 9, 10])\n",
    "iterative_process[-1]"
   ]
  },
  {
   "cell_type": "code",
   "execution_count": 10,
   "metadata": {},
   "outputs": [
    {
     "data": {
      "text/plain": [
       "[<matplotlib.lines.Line2D at 0x7f8ef10ad850>]"
      ]
     },
     "execution_count": 10,
     "metadata": {},
     "output_type": "execute_result"
    },
    {
     "data": {
      "image/png": "[encoded data removed]",
      "text/plain": [
       "<Figure size 864x576 with 1 Axes>"
      ]
     },
     "metadata": {
      "needs_background": "light"
     },
     "output_type": "display_data"
    }
   ],
   "source": [
    "plt.figure(figsize=(12, 8))\n",
    "\n",
    "final_costs = sorted(iterative_process[-1])\n",
    "final_costs = final_costs[::-1]\n",
    "\n",
    "plt.scatter(list(range(2, len(final_costs) + 2)), final_costs, color='red')\n",
    "plt.plot(list(range(2, len(final_costs) + 2)), final_costs)"
   ]
  },
  {
   "cell_type": "markdown",
   "metadata": {},
   "source": [
    "The plot shows the clear visualization in which the algorithm gives the minimal distance in order to travel all the cities and get back to source city. Hence the **Travelling Salesman Problem**."
   ]
  },
  {
   "cell_type": "markdown",
   "metadata": {},
   "source": [
    "In order to compare the results by considering different source cities (The result will be same although). We make use of `GetPossibilities(num)` function that returns a dictionary having keys as sources and values as target cities. We obtain the same result for each different source (that's whole point of this algorithm)."
   ]
  },
  {
   "cell_type": "code",
   "execution_count": 11,
   "metadata": {},
   "outputs": [],
   "source": [
    "def CompareDiffSources(num):\n",
    "    distances = {}\n",
    "    possibilities = GetPossibilites(num)\n",
    "    for source, cities in possibilities.items():\n",
    "        distances[source] = TSPGetMinDistance(source, source, cities)\n",
    "    return distances"
   ]
  },
  {
   "cell_type": "markdown",
   "metadata": {},
   "source": [
    "## Possible minimum distance from each source"
   ]
  },
  {
   "cell_type": "code",
   "execution_count": 12,
   "metadata": {},
   "outputs": [
    {
     "data": {
      "text/plain": [
       "{1: 176,\n",
       " 2: 176,\n",
       " 3: 176,\n",
       " 4: 176,\n",
       " 5: 176,\n",
       " 6: 176,\n",
       " 7: 176,\n",
       " 8: 176,\n",
       " 9: 176,\n",
       " 10: 176}"
      ]
     },
     "execution_count": 12,
     "metadata": {},
     "output_type": "execute_result"
    }
   ],
   "source": [
    "distances = CompareDiffSources(total_num)\n",
    "distances"
   ]
  },
  {
   "cell_type": "markdown",
   "metadata": {},
   "source": [
    "Clearly we can see the same cost or distance from each differnt source city. Hence we can say that the algorithm works fine. But it's performance is too slow when the number of cities increase to `n`."
   ]
  },
  {
   "cell_type": "markdown",
   "metadata": {},
   "source": [
    "# Genetic Algorithm for implementing TSP"
   ]
  },
  {
   "cell_type": "markdown",
   "metadata": {},
   "source": [
    "Basically, GA uses the heuristic search methods in order to find the optimum solution by the basis of natural theory selection and evolutionary biology. The heuristic search method is technique designed for solving a problem more quickly when classic methods are too slow. It is widely used in the field of Artificial Intelligence, Mathematical Optimization etc.\n",
    "\n",
    "Genetic algorithms are excellent for searching through large and complex data sets in a handy way. Four important things that a GA uses to find the solution are:\n",
    "\n",
    "* Chromosome\n",
    "* Crossover\n",
    "* Mutation\n",
    "* Survival of fittest (Natural Evolution)"
   ]
  },
  {
   "cell_type": "markdown",
   "metadata": {},
   "source": [
    "## Procedure\n",
    "\n",
    "1. Generate randomly `k` chromosomes called population.\n",
    "    * Each chromosome represents an individual solution.\n",
    "2. Create `k-offspring` through `crossover` and `mutation`.\n",
    "    * **Crossover** : Analogous to reproduction and bilogical crossover. More than one parent is selected and one or more offsprings are produced using genetic material of the parents.\n",
    "    <img src=\"crossover.png\">\n",
    "    * **Mutation** : It is small small tweak in the chromosome to get a new solution. It is a part to GA that help chromosomes in exploration of the search space.\n",
    "    <img src=\"mutation.gif\">\n",
    "    \n",
    "    Finally it will have `2k` chromosomes (initial `k` chromosome + `k` chromosomes after crossover or mutation).\n",
    "3. Usage of fitness function to select the best `k` chromosomes among the existing `2k` chromosomes.\n",
    "4. Repeat the whole process until the iteration threshold value is reached.\n",
    "5. The resultant `k` chromosomes are the best fit for the problem.\n",
    "\n",
    "**With regard to TSP, it is all about finding the least cost or distance path by using above conditions.**\n",
    "\n",
    "The fitness function returns the minimal total distance of the path."
   ]
  },
  {
   "cell_type": "markdown",
   "metadata": {},
   "source": [
    "### Let us consider `10` cities "
   ]
  },
  {
   "cell_type": "code",
   "execution_count": 13,
   "metadata": {},
   "outputs": [
    {
     "data": {
      "text/html": [
       "<div>\n",
       "<style scoped>\n",
       "    .dataframe tbody tr th:only-of-type {\n",
       "        vertical-align: middle;\n",
       "    }\n",
       "\n",
       "    .dataframe tbody tr th {\n",
       "        vertical-align: top;\n",
       "    }\n",
       "\n",
       "    .dataframe thead th {\n",
       "        text-align: right;\n",
       "    }\n",
       "</style>\n",
       "<table border=\"1\" class=\"dataframe\">\n",
       "  <thead>\n",
       "    <tr style=\"text-align: right;\">\n",
       "      <th></th>\n",
       "      <th>target_1</th>\n",
       "      <th>dist_1</th>\n",
       "    </tr>\n",
       "  </thead>\n",
       "  <tbody>\n",
       "    <tr>\n",
       "      <td>0</td>\n",
       "      <td>5</td>\n",
       "      <td>0.325</td>\n",
       "    </tr>\n",
       "    <tr>\n",
       "      <td>1</td>\n",
       "      <td>8</td>\n",
       "      <td>0.331</td>\n",
       "    </tr>\n",
       "    <tr>\n",
       "      <td>2</td>\n",
       "      <td>7</td>\n",
       "      <td>0.340</td>\n",
       "    </tr>\n",
       "    <tr>\n",
       "      <td>3</td>\n",
       "      <td>9</td>\n",
       "      <td>0.414</td>\n",
       "    </tr>\n",
       "    <tr>\n",
       "      <td>4</td>\n",
       "      <td>2</td>\n",
       "      <td>0.573</td>\n",
       "    </tr>\n",
       "    <tr>\n",
       "      <td>5</td>\n",
       "      <td>6</td>\n",
       "      <td>0.688</td>\n",
       "    </tr>\n",
       "    <tr>\n",
       "      <td>6</td>\n",
       "      <td>4</td>\n",
       "      <td>0.692</td>\n",
       "    </tr>\n",
       "    <tr>\n",
       "      <td>7</td>\n",
       "      <td>3</td>\n",
       "      <td>0.733</td>\n",
       "    </tr>\n",
       "    <tr>\n",
       "      <td>8</td>\n",
       "      <td>10</td>\n",
       "      <td>0.877</td>\n",
       "    </tr>\n",
       "  </tbody>\n",
       "</table>\n",
       "</div>"
      ],
      "text/plain": [
       "   target_1  dist_1\n",
       "0         5   0.325\n",
       "1         8   0.331\n",
       "2         7   0.340\n",
       "3         9   0.414\n",
       "4         2   0.573\n",
       "5         6   0.688\n",
       "6         4   0.692\n",
       "7         3   0.733\n",
       "8        10   0.877"
      ]
     },
     "execution_count": 13,
     "metadata": {},
     "output_type": "execute_result"
    }
   ],
   "source": [
    "source_city = 1\n",
    "target_cities = [2, 3, 4, 5, 6, 7, 8, 9, 10]\n",
    "random_dists = [round(random.uniform(0.20, 0.90), 3) for i in target_cities]\n",
    "chromosome1 = pd.DataFrame()\n",
    "chromosome1['target_1'] = target_cities\n",
    "chromosome1['dist_1'] = random_dists\n",
    "chromosome1 = chromosome1.sort_values('dist_1', ascending=True)\n",
    "chromosome1.reset_index(inplace=True)\n",
    "chromosome1.drop(columns=['index'], axis=1, inplace=True)\n",
    "chromosome1"
   ]
  },
  {
   "cell_type": "code",
   "execution_count": 14,
   "metadata": {},
   "outputs": [
    {
     "name": "stdout",
     "output_type": "stream",
     "text": [
      "Shortest path :  1 > 5 > 8 > 7 > 9 > 2 > 6 > 4 > 3 > 10 > 1\n"
     ]
    }
   ],
   "source": [
    "path = '1 >'\n",
    "for tar in chromosome1['target_1']:\n",
    "    path += ' ' + str(tar) + ' ' + '>' \n",
    "path = path + ' ' + '1'\n",
    "print('Shortest path : ', path)"
   ]
  },
  {
   "cell_type": "code",
   "execution_count": 15,
   "metadata": {},
   "outputs": [
    {
     "data": {
      "text/html": [
       "<div>\n",
       "<style scoped>\n",
       "    .dataframe tbody tr th:only-of-type {\n",
       "        vertical-align: middle;\n",
       "    }\n",
       "\n",
       "    .dataframe tbody tr th {\n",
       "        vertical-align: top;\n",
       "    }\n",
       "\n",
       "    .dataframe thead th {\n",
       "        text-align: right;\n",
       "    }\n",
       "</style>\n",
       "<table border=\"1\" class=\"dataframe\">\n",
       "  <thead>\n",
       "    <tr style=\"text-align: right;\">\n",
       "      <th></th>\n",
       "      <th>target_2</th>\n",
       "      <th>dist_2</th>\n",
       "    </tr>\n",
       "  </thead>\n",
       "  <tbody>\n",
       "    <tr>\n",
       "      <td>0</td>\n",
       "      <td>6</td>\n",
       "      <td>0.245</td>\n",
       "    </tr>\n",
       "    <tr>\n",
       "      <td>1</td>\n",
       "      <td>7</td>\n",
       "      <td>0.270</td>\n",
       "    </tr>\n",
       "    <tr>\n",
       "      <td>2</td>\n",
       "      <td>4</td>\n",
       "      <td>0.315</td>\n",
       "    </tr>\n",
       "    <tr>\n",
       "      <td>3</td>\n",
       "      <td>5</td>\n",
       "      <td>0.364</td>\n",
       "    </tr>\n",
       "    <tr>\n",
       "      <td>4</td>\n",
       "      <td>8</td>\n",
       "      <td>0.394</td>\n",
       "    </tr>\n",
       "    <tr>\n",
       "      <td>5</td>\n",
       "      <td>2</td>\n",
       "      <td>0.464</td>\n",
       "    </tr>\n",
       "    <tr>\n",
       "      <td>6</td>\n",
       "      <td>3</td>\n",
       "      <td>0.561</td>\n",
       "    </tr>\n",
       "    <tr>\n",
       "      <td>7</td>\n",
       "      <td>9</td>\n",
       "      <td>0.684</td>\n",
       "    </tr>\n",
       "    <tr>\n",
       "      <td>8</td>\n",
       "      <td>10</td>\n",
       "      <td>0.766</td>\n",
       "    </tr>\n",
       "  </tbody>\n",
       "</table>\n",
       "</div>"
      ],
      "text/plain": [
       "   target_2  dist_2\n",
       "0         6   0.245\n",
       "1         7   0.270\n",
       "2         4   0.315\n",
       "3         5   0.364\n",
       "4         8   0.394\n",
       "5         2   0.464\n",
       "6         3   0.561\n",
       "7         9   0.684\n",
       "8        10   0.766"
      ]
     },
     "execution_count": 15,
     "metadata": {},
     "output_type": "execute_result"
    }
   ],
   "source": [
    "source_city = 1\n",
    "target_cities = [2, 3, 4, 5, 6, 7, 8, 9, 10]\n",
    "random_dists = [round(random.uniform(0.20, 0.90), 3) for i in target_cities]\n",
    "chromosome2 = pd.DataFrame()\n",
    "chromosome2['target_2'] = target_cities\n",
    "chromosome2['dist_2'] = random_dists\n",
    "chromosome2 = chromosome2.sort_values('dist_2', ascending=True)\n",
    "chromosome2.reset_index(inplace=True)\n",
    "chromosome2.drop(columns=['index'], axis=1, inplace=True)\n",
    "chromosome2"
   ]
  },
  {
   "cell_type": "code",
   "execution_count": 16,
   "metadata": {},
   "outputs": [
    {
     "name": "stdout",
     "output_type": "stream",
     "text": [
      "Shortest path :  1 > 6 > 7 > 4 > 5 > 8 > 2 > 3 > 9 > 10 > 1\n"
     ]
    }
   ],
   "source": [
    "path = '1 >'\n",
    "for tar in chromosome2['target_2']:\n",
    "    path += ' ' + str(tar) + ' ' + '>' \n",
    "path = path + ' ' + '1'\n",
    "print('Shortest path : ', path)"
   ]
  },
  {
   "cell_type": "markdown",
   "metadata": {},
   "source": [
    "## Crossover implementation"
   ]
  },
  {
   "cell_type": "code",
   "execution_count": 17,
   "metadata": {},
   "outputs": [
    {
     "name": "stdout",
     "output_type": "stream",
     "text": [
      "Parent 1 :  [1, 5, 8, 7, 9, 2, 6, 4, 3, 10]\n",
      "Parent 2 :  [1, 6, 7, 4, 5, 8, 2, 3, 9, 10]\n"
     ]
    }
   ],
   "source": [
    "parent_1 = [1]\n",
    "for tar in chromosome1['target_1']:\n",
    "    parent_1.append(tar)\n",
    "parent_2 = [1]\n",
    "for tar in chromosome2['target_2']:\n",
    "    parent_2.append(tar)\n",
    "print('Parent 1 : ', parent_1)\n",
    "print('Parent 2 : ', parent_2)"
   ]
  },
  {
   "cell_type": "code",
   "execution_count": 18,
   "metadata": {},
   "outputs": [
    {
     "name": "stdout",
     "output_type": "stream",
     "text": [
      "Genetic code 1 :  [1, 10, 4]\n",
      "Genetic code 2 :  [9, 1, 8]\n"
     ]
    }
   ],
   "source": [
    "genetic_code_1 = []\n",
    "for i in parent_1:\n",
    "    if len(genetic_code_1) < 3:\n",
    "        code = random.choice(parent_1)\n",
    "        if code not in genetic_code_1:\n",
    "            genetic_code_1.append(code)\n",
    "        else : code = random.choice(parent_1)\n",
    "# -----\n",
    "genetic_code_2 = []\n",
    "for i in parent_2:\n",
    "    if len(genetic_code_2) < 3:\n",
    "        code = random.choice(parent_2)\n",
    "        if code not in genetic_code_2:\n",
    "            genetic_code_2.append(code)\n",
    "        else : code = random.choice(parent_2)\n",
    "\n",
    "print('Genetic code 1 : ', genetic_code_1)\n",
    "print('Genetic code 2 : ', genetic_code_2)"
   ]
  },
  {
   "cell_type": "code",
   "execution_count": 19,
   "metadata": {},
   "outputs": [
    {
     "name": "stdout",
     "output_type": "stream",
     "text": [
      "Offspring 1 :  [6, 7, 5, 8, 2, 3, 9, 10, 1, 4]\n",
      "Offspring 2 :  [5, 7, 2, 6, 4, 3, 10, 1, 8, 9]\n"
     ]
    }
   ],
   "source": [
    "offspring_1 = parent_2[:]\n",
    "for i in genetic_code_1:\n",
    "    offspring_1.remove(i)\n",
    "dummy_gcode_1 = genetic_code_1[:]\n",
    "random.shuffle(dummy_gcode_1)\n",
    "offspring_1.extend(dummy_gcode_1)\n",
    "# -----\n",
    "offspring_2 = parent_1[:]\n",
    "for i in genetic_code_2:\n",
    "    offspring_2.remove(i)\n",
    "dummy_gcode_2 = genetic_code_2[:]\n",
    "random.shuffle(dummy_gcode_2)\n",
    "offspring_2.extend(dummy_gcode_2)\n",
    "\n",
    "print('Offspring 1 : ', offspring_1)\n",
    "print('Offspring 2 : ', offspring_2)"
   ]
  },
  {
   "cell_type": "markdown",
   "metadata": {},
   "source": [
    "## Mutation implementation"
   ]
  },
  {
   "cell_type": "code",
   "execution_count": 20,
   "metadata": {},
   "outputs": [
    {
     "name": "stdout",
     "output_type": "stream",
     "text": [
      "Offspring 1 :  [5, 8, 7, 1, 10, 4, 9, 2, 6, 3]\n",
      "Offspring 2 :  [5, 7, 2, 9, 1, 8, 6, 4, 3, 10]\n"
     ]
    }
   ],
   "source": [
    "offspring_1 = parent_1[:]\n",
    "for code in genetic_code_1:\n",
    "    offspring_1.remove(code)\n",
    "rand_index = random.randint(1, 6)\n",
    "for i in genetic_code_1:\n",
    "    offspring_1.insert(rand_index, i)\n",
    "    rand_index += 1\n",
    "# -----\n",
    "offspring_2 = parent_1[:]\n",
    "for code in genetic_code_2:\n",
    "    offspring_2.remove(code)\n",
    "rand_index = random.randint(1, 6)\n",
    "for i in genetic_code_2:\n",
    "    offspring_2.insert(rand_index, i)\n",
    "    rand_index += 1\n",
    "\n",
    "print('Offspring 1 : ', offspring_1)\n",
    "print('Offspring 2 : ', offspring_2)"
   ]
  },
  {
   "cell_type": "markdown",
   "metadata": {},
   "source": [
    "Now that we have `4` offsprings out of `2` chromosomes, we will have to select the best chromosome and the best solution, that can be done by a minimizing function (one which has been implemeted above)."
   ]
  },
  {
   "cell_type": "markdown",
   "metadata": {},
   "source": [
    "**Conclusion**\n",
    "\n",
    "1. At times, this approach may not be able to find good solution.\n",
    "2. We can implement other deterministic methods like `Kruskal's minimal spanning tree` etc.\n",
    "3. Ultimately it should find the global minimum (minimal of all local minimums) cost value for the above case."
   ]
  },
  {
   "cell_type": "markdown",
   "metadata": {},
   "source": [
    "# Ant colony optimization and TSP"
   ]
  },
  {
   "cell_type": "markdown",
   "metadata": {},
   "source": [
    "Ant colony optimization algorithm (ACO) is a probabilistic technique that solves computational problems which can be reduced to finding good paths through graphs. \n",
    "\n",
    "Real ants lay down pheromones (chemical substance produced and released into the environment by an animal, especially a mammal or an insect, affecting the behaviour or physiology of others of its species) directing each other to resources while exploring their environment.\n",
    "\n",
    "**Using pheromones ants can figure out the shortest path**.\n",
    "<img src=\"pheromone.jpg\">"
   ]
  },
  {
   "cell_type": "markdown",
   "metadata": {},
   "source": [
    "### ACO for TSP\n",
    "\n",
    "1. Let's assume there are `n` cities, then anyone distinct ant starts from any random city.\n",
    "2. TSP conditions apply\n",
    "    * Ants pocess a memory not to visit the already visited city.\n",
    "    * Ants will know the distance of the cities and tend tp choose nearby city (in case if everything is same).\n",
    "    * If two paths are of equal distance, they tend to choose the path which has more pheromone content.\n",
    "3. The `Probability` can be stated like\n",
    "    * $P_{ij}^k \\rightarrow$ ant `k` which is sitting in city `i` and the probability to select city `j`.\n",
    "    * $$p(c_{ij}|s^p)=\\frac{\\tau_{ij}^\\alpha \\cdot \\eta_{ij}^\\beta}{\\sum_{c_{il}\\in N(s^p)}{\\tau_{il}^\\alpha \\cdot \\eta_{il}^\\beta}}, \n",
    "\\forall{c_{ij} \\in N(s^p)}\\ ,$$\n",
    "    * $\\tau_{ij}^{\\alpha}$ is the intensity of the pheromone between cities.\n",
    "    * $\\alpha$ is the parameter to regulate the influence of $\\tau_{ij}^{\\alpha}$.\n",
    "    * $\\eta_{ij}$ is  the visibility of the city.\n",
    "    * $\\beta$ is the paramter to regulate the influence of $\\eta_{ij}$.\n",
    "    * $N(s^p_k)$ is the set of cities that the has not visited.\n",
    "    * Probability is $0$ in the case where the ant has already visited the city.\n",
    "4. Each iteration the pheromones are updated in such a way that the shorter path gets the highest priority."
   ]
  },
  {
   "cell_type": "markdown",
   "metadata": {},
   "source": [
    "**References**\n",
    "\n",
    "1. Google Images\n",
    "\n",
    "2. Medium atricle $\\rightarrow$ https://medium.com/@becmjo/genetic-algorithms-and-the-travelling-salesman-problem-d10d1daf96a1\n",
    "\n",
    "3. Wikipedia page $\\rightarrow$ https://simple.wikipedia.org/wiki/Travelling_salesman_problem\n",
    "\n",
    "4. TSP video $\\rightarrow$ https://www.youtube.com/watch?v=3GAfjE_ChRI\n",
    "\n",
    "5. ACO-TSP video $\\rightarrow$ https://www.youtube.com/watch?v=wfD5xlEcmuQ"
   ]
  }
 ],
 "metadata": {
  "kernelspec": {
   "display_name": "Python 3",
   "language": "python",
   "name": "python3"
  },
  "language_info": {
   "codemirror_mode": {
    "name": "ipython",
    "version": 3
   },
   "file_extension": ".py",
   "mimetype": "text/x-python",
   "name": "python",
   "nbconvert_exporter": "python",
   "pygments_lexer": "ipython3",
   "version": "3.7.4"
  }
 },
 "nbformat": 4,
 "nbformat_minor": 2
}
